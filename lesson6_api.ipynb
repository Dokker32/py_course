{
 "cells": [
  {
   "cell_type": "markdown",
   "metadata": {},
   "source": [
    "#https://github.com/public-apis/public-apis"
   ]
  },
  {
   "cell_type": "code",
   "execution_count": 1,
   "metadata": {},
   "outputs": [],
   "source": [
    "import requests\n",
    "response = requests.get(\"https://randomuser.me/api/\")"
   ]
  },
  {
   "cell_type": "code",
   "execution_count": 2,
   "metadata": {},
   "outputs": [
    {
     "name": "stdout",
     "output_type": "stream",
     "text": [
      "<PreparedRequest [GET]>\n",
      "https://randomuser.me/api/\n",
      "/api/\n",
      "GET\n",
      "{'User-Agent': 'python-requests/2.28.2', 'Accept-Encoding': 'gzip, deflate, br', 'Accept': '*/*', 'Connection': 'keep-alive'}\n",
      "200\n",
      "{'Date': 'Fri, 01 Sep 2023 06:54:08 GMT', 'Content-Type': 'application/json; charset=utf-8', 'Transfer-Encoding': 'chunked', 'Connection': 'keep-alive', 'X-Powered-By': 'Express', 'Access-Control-Allow-Origin': '*', 'Cache-Control': 'no-cache', 'ETag': 'W/\"498-tNx+dbsrSjiMMyhJjgC/abRLeWg\"', 'Vary': 'Accept-Encoding', 'CF-Cache-Status': 'DYNAMIC', 'Report-To': '{\"endpoints\":[{\"url\":\"https:\\\\/\\\\/a.nel.cloudflare.com\\\\/report\\\\/v3?s=qAzcZNlXvX%2BhUxren5kT2w5NFcNuIvV0xRJyG4Jck8beUtYwNdbO1f%2BbGFlZeF8QI0X5jdzGa1dgXRSid%2FIGCTG8AVZKeQQipD%2FF9JN70tw91KorVi90c5mioylki7Gx\"}],\"group\":\"cf-nel\",\"max_age\":604800}', 'NEL': '{\"success_fraction\":0,\"report_to\":\"cf-nel\",\"max_age\":604800}', 'Server': 'cloudflare', 'CF-RAY': '7ffb99a5abae3647-FRA', 'Content-Encoding': 'br', 'alt-svc': 'h3=\":443\"; ma=86400'}\n"
     ]
    }
   ],
   "source": [
    "request = response.request\n",
    "print(request)\n",
    "print(request.url)\n",
    "print(request.path_url)\n",
    "print(request.method)\n",
    "print(request.headers)\n",
    "print(response.status_code)\n",
    "print(response.headers)"
   ]
  },
  {
   "cell_type": "code",
   "execution_count": 3,
   "metadata": {},
   "outputs": [
    {
     "name": "stdout",
     "output_type": "stream",
     "text": [
      "<Response [405]>\n",
      "<Response [200]>\n",
      "<Response [405]>\n",
      "<Response [405]>\n"
     ]
    }
   ],
   "source": [
    "response = requests.get('https://api.thedogapi.com/v1/breeds/1')\n",
    "print(requests.post('https://api.thedogapi.com/v1/breeds/1'))\n",
    "print(requests.get('https://api.thedogapi.com/v1/breeds/1'))\n",
    "print(requests.put('https://api.thedogapi.com/v1/breeds/1'))\n",
    "print(requests.delete('https://api.thedogapi.com/v1/breeds/1'))"
   ]
  },
  {
   "cell_type": "code",
   "execution_count": 4,
   "metadata": {},
   "outputs": [
    {
     "name": "stdout",
     "output_type": "stream",
     "text": [
      "https://apod.nasa.gov/apod/image/2309/M13-totale-en-cours-crop8_1024.jpg\n"
     ]
    }
   ],
   "source": [
    "import requests\n",
    "\n",
    "url = 'https://api.nasa.gov/planetary/apod?api_key='\n",
    "api_key = ''\n",
    "\n",
    "response = requests.get(url + api_key)\n",
    "img = response.json()['url']\n",
    "\n",
    "print(img)"
   ]
  },
  {
   "cell_type": "code",
   "execution_count": 5,
   "metadata": {},
   "outputs": [
    {
     "name": "stdout",
     "output_type": "stream",
     "text": [
      "200\n",
      "https://randomfox.ca/images/36.jpg\n"
     ]
    }
   ],
   "source": [
    "url = 'https://randomfox.ca/floof/'\n",
    "\n",
    "response = requests.get(url)\n",
    "data = response.json()\n",
    "\n",
    "print(response.status_code)\n",
    "print(data['image'])\n",
    "\n",
    "import shutil\n",
    "url = data['image']\n",
    "data = requests.get(url, stream = True)\n",
    "with open('data/fox.jpg','wb') as picture:\n",
    "        shutil.copyfileobj(data.raw, picture)"
   ]
  },
  {
   "cell_type": "markdown",
   "metadata": {},
   "source": [
    "Путем подключения к API через библиотеку \n",
    "requests, подключиться к соцсети \n",
    "https://www.vk.com и написать все данные \n",
    "(путем всех методов, которые мы разбирали \n",
    "на занятии) этого сайта"
   ]
  }
 ],
 "metadata": {
  "kernelspec": {
   "display_name": "Python 3",
   "language": "python",
   "name": "python3"
  },
  "language_info": {
   "codemirror_mode": {
    "name": "ipython",
    "version": 3
   },
   "file_extension": ".py",
   "mimetype": "text/x-python",
   "name": "python",
   "nbconvert_exporter": "python",
   "pygments_lexer": "ipython3",
   "version": "3.11.5"
  },
  "orig_nbformat": 4
 },
 "nbformat": 4,
 "nbformat_minor": 2
}
