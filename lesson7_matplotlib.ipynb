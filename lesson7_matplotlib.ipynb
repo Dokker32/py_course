{
 "cells": [
  {
   "cell_type": "markdown",
   "metadata": {},
   "source": [
    "Этап #1 - объект Series библиотеки"
   ]
  },
  {
   "cell_type": "code",
   "execution_count": 2,
   "metadata": {},
   "outputs": [
    {
     "name": "stdout",
     "output_type": "stream",
     "text": [
      "[0.25 0.5  0.75 1.  ]\n"
     ]
    }
   ],
   "source": [
    "import numpy as np\n",
    "import pandas as pd\n",
    "s = pd.Series([0.25, 0.5, 0.75, 1.0])\n",
    "print(s.values)"
   ]
  },
  {
   "cell_type": "markdown",
   "metadata": {},
   "source": [
    "Index — массивоподобный объект типа pd.Index"
   ]
  },
  {
   "cell_type": "code",
   "execution_count": 3,
   "metadata": {},
   "outputs": [
    {
     "name": "stdout",
     "output_type": "stream",
     "text": [
      "RangeIndex(start=0, stop=4, step=1)\n"
     ]
    }
   ],
   "source": [
    "import numpy as np\n",
    "import pandas as pd\n",
    "s = pd.Series([0.25, 0.5, 0.75, 1.0])\n",
    "print(s.index)"
   ]
  },
  {
   "cell_type": "markdown",
   "metadata": {},
   "source": [
    "Срезы"
   ]
  },
  {
   "cell_type": "code",
   "execution_count": 7,
   "metadata": {},
   "outputs": [
    {
     "name": "stdout",
     "output_type": "stream",
     "text": [
      "0.25\n",
      "0.5\n",
      "1    0.50\n",
      "2    0.75\n",
      "dtype: float64\n",
      "0    0.25\n",
      "1    0.50\n",
      "dtype: float64\n",
      "0    0.25\n",
      "1    0.50\n",
      "dtype: float64\n"
     ]
    }
   ],
   "source": [
    "s = pd.Series([0.25, 0.5, 0.75, 1.0])\n",
    "print(s[0])\n",
    "print(s[1])\n",
    "print(s[1:3])\n",
    "print(s[:2])\n",
    "print(s[:2])"
   ]
  },
  {
   "cell_type": "code",
   "execution_count": 1,
   "metadata": {},
   "outputs": [
    {
     "data": {
      "image/png": "[encoded data removed]",
      "text/plain": [
       "<Figure size 640x480 with 1 Axes>"
      ]
     },
     "metadata": {},
     "output_type": "display_data"
    }
   ],
   "source": [
    "import pandas as pd\n",
    "import matplotlib.pyplot as plt\n",
    "\n",
    "# Создание объекта Series\n",
    "data = pd.Series([10, 20, 30, 40, 50])\n",
    "\n",
    "# Построение графика линии\n",
    "data.plot(kind='line', title='График линии')\n",
    "\n",
    "# Построение столбчатой диаграммы\n",
    "data.plot(kind='bar', title='Столбчатая диаграмма')\n",
    "\n",
    "# Построение горизонтальной столбчатой диаграммы\n",
    "data.plot(kind='barh', title='Горизонтальная столбчатая диаграмма')\n",
    "\n",
    "# Отображение графиков\n",
    "plt.show()"
   ]
  }
 ],
 "metadata": {
  "kernelspec": {
   "display_name": "Python 3",
   "language": "python",
   "name": "python3"
  },
  "language_info": {
   "codemirror_mode": {
    "name": "ipython",
    "version": 3
   },
   "file_extension": ".py",
   "mimetype": "text/x-python",
   "name": "python",
   "nbconvert_exporter": "python",
   "pygments_lexer": "ipython3",
   "version": "3.11.5"
  },
  "orig_nbformat": 4
 },
 "nbformat": 4,
 "nbformat_minor": 2
}
