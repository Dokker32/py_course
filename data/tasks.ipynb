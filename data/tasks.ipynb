{
 "cells": [
  {
   "cell_type": "markdown",
   "metadata": {},
   "source": [
    "Звездный треугольник"
   ]
  },
  {
   "cell_type": "code",
   "execution_count": 8,
   "metadata": {},
   "outputs": [
    {
     "name": "stdout",
     "output_type": "stream",
     "text": [
      "    *    \n",
      "   ***   \n",
      "  *****  \n",
      " ******* \n",
      "*********\n"
     ]
    }
   ],
   "source": [
    "def triangle(count, character):\n",
    "    for i in range(1, count * 2, 2):\n",
    "        padding = (count * 2 - 1 - i) // 2\n",
    "        print(padding * ' '  + i * character + padding * ' ')\n",
    "\n",
    "\n",
    "count = 5\n",
    "character = '*'\n",
    "\n",
    "triangle(count, character)"
   ]
  },
  {
   "cell_type": "markdown",
   "metadata": {},
   "source": [
    "Счастливое число"
   ]
  },
  {
   "cell_type": "code",
   "execution_count": 12,
   "metadata": {},
   "outputs": [
    {
     "data": {
      "text/plain": [
       "'Число не счастливое'"
      ]
     },
     "execution_count": 12,
     "metadata": {},
     "output_type": "execute_result"
    }
   ],
   "source": [
    "def is_lucky(number):\n",
    "    num_str = str(number)\n",
    "    if len(num_str) != 6:\n",
    "        return 'Число должно состоять из 6 цифр'\n",
    "    first = sum(map(int, num_str[:3]))\n",
    "    second = sum(map(int, num_str[3:]))\n",
    "    if first == second:\n",
    "        return 'Число счастливое'\n",
    "    else:\n",
    "        return 'Число не счастливое'\n",
    "\n",
    "number = input()\n",
    "is_lucky(number)"
   ]
  }
 ],
 "metadata": {
  "kernelspec": {
   "display_name": "Python 3",
   "language": "python",
   "name": "python3"
  },
  "language_info": {
   "codemirror_mode": {
    "name": "ipython",
    "version": 3
   },
   "file_extension": ".py",
   "mimetype": "text/x-python",
   "name": "python",
   "nbconvert_exporter": "python",
   "pygments_lexer": "ipython3",
   "version": "3.8.10"
  },
  "orig_nbformat": 4
 },
 "nbformat": 4,
 "nbformat_minor": 2
}
