{
 "cells": [
  {
   "cell_type": "markdown",
   "metadata": {},
   "source": [
    "Zen of python"
   ]
  },
  {
   "cell_type": "code",
   "execution_count": 1,
   "metadata": {},
   "outputs": [
    {
     "name": "stdout",
     "output_type": "stream",
     "text": [
      "The Zen of Python, by Tim Peters\n",
      "\n",
      "Beautiful is better than ugly.\n",
      "Explicit is better than implicit.\n",
      "Simple is better than complex.\n",
      "Complex is better than complicated.\n",
      "Flat is better than nested.\n",
      "Sparse is better than dense.\n",
      "Readability counts.\n",
      "Special cases aren't special enough to break the rules.\n",
      "Although practicality beats purity.\n",
      "Errors should never pass silently.\n",
      "Unless explicitly silenced.\n",
      "In the face of ambiguity, refuse the temptation to guess.\n",
      "There should be one-- and preferably only one --obvious way to do it.\n",
      "Although that way may not be obvious at first unless you're Dutch.\n",
      "Now is better than never.\n",
      "Although never is often better than *right* now.\n",
      "If the implementation is hard to explain, it's a bad idea.\n",
      "If the implementation is easy to explain, it may be a good idea.\n",
      "Namespaces are one honking great idea -- let's do more of those!\n"
     ]
    }
   ],
   "source": [
    "import this"
   ]
  },
  {
   "cell_type": "markdown",
   "metadata": {},
   "source": [
    "Арифметические операции"
   ]
  },
  {
   "cell_type": "code",
   "execution_count": 2,
   "metadata": {},
   "outputs": [
    {
     "name": "stdout",
     "output_type": "stream",
     "text": [
      "69\n",
      "65\n",
      "134\n",
      "33.5\n",
      "33\n",
      "1\n",
      "4489\n"
     ]
    }
   ],
   "source": [
    "x = 67\n",
    "y = 2\n",
    "print(x + y)  # сложение\n",
    "print(x - y)  # вычитание\n",
    "print(x * y)  # умножение\n",
    "print(x / y)  # деление\n",
    "print(x // y) # целочисленное деление\n",
    "print(x % y)  # остаток от деления\n",
    "print(x ** y) # возведение в степень"
   ]
  },
  {
   "cell_type": "markdown",
   "metadata": {},
   "source": [
    "Операции со строками"
   ]
  },
  {
   "cell_type": "code",
   "execution_count": 3,
   "metadata": {},
   "outputs": [
    {
     "name": "stdout",
     "output_type": "stream",
     "text": [
      "Меня зовут Дмитрий и мне 40 лет.\n"
     ]
    }
   ],
   "source": [
    "name = 'Дмитрий'\n",
    "age = 40\n",
    "print('Меня зовут ' + name + ' и мне ' + str(age) + ' лет.')"
   ]
  },
  {
   "cell_type": "markdown",
   "metadata": {},
   "source": [
    "Примеры логических операций"
   ]
  },
  {
   "cell_type": "code",
   "execution_count": 4,
   "metadata": {},
   "outputs": [
    {
     "name": "stdout",
     "output_type": "stream",
     "text": [
      "False\n",
      "True\n",
      "False\n"
     ]
    }
   ],
   "source": [
    "x = True\n",
    "y = False\n",
    "\n",
    "print(x and y)  # Логическое И (AND)\n",
    "print(x or y)   # Логическое ИЛИ (OR)\n",
    "print(not x)    # Логическое НЕ (NOT)"
   ]
  },
  {
   "cell_type": "markdown",
   "metadata": {},
   "source": [
    "Примеры операций сравнения"
   ]
  },
  {
   "cell_type": "code",
   "execution_count": 5,
   "metadata": {},
   "outputs": [
    {
     "name": "stdout",
     "output_type": "stream",
     "text": [
      "False\n",
      "True\n",
      "True\n",
      "False\n",
      "True\n",
      "False\n"
     ]
    }
   ],
   "source": [
    "a = 5\n",
    "b = 2\n",
    "\n",
    "print(a == b)  # Равно (==)\n",
    "print(a != b)  # Не равно (!=)\n",
    "print(a > b)   # Больше (>)\n",
    "print(a < b)   # Меньше (<)\n",
    "print(a >= b)  # Больше или равно (>=)\n",
    "print(a <= b)  # Меньше или равно (<=)"
   ]
  },
  {
   "cell_type": "markdown",
   "metadata": {},
   "source": [
    "Операция со строками"
   ]
  },
  {
   "cell_type": "code",
   "execution_count": 6,
   "metadata": {},
   "outputs": [
    {
     "name": "stdout",
     "output_type": "stream",
     "text": [
      "Привет, мир\n",
      "ПриветПривет\n",
      "П и т\n",
      "ри\n",
      "При\n",
      "вет\n"
     ]
    }
   ],
   "source": [
    "s1 = 'мир'\n",
    "s2 = 'Привет'\n",
    "print(s2 + ', ' + s1)           #конкатенация\n",
    "print(s2*2)                     #умножение\n",
    "print(s2[0], s2[2], s2[-1])     #индексы\n",
    "print(s2[1:3])\n",
    "print(s2[:3])\n",
    "print(s2[3:])                   #срезы"
   ]
  },
  {
   "cell_type": "markdown",
   "metadata": {},
   "source": [
    "Функция len() в Python принимает объект в качестве аргумента и возвращает длину этого объекта. "
   ]
  },
  {
   "cell_type": "code",
   "execution_count": 7,
   "metadata": {},
   "outputs": [
    {
     "name": "stdout",
     "output_type": "stream",
     "text": [
      "6\n"
     ]
    }
   ],
   "source": [
    "s = 'Привет'\n",
    "print(len(s))"
   ]
  },
  {
   "cell_type": "markdown",
   "metadata": {},
   "source": [
    "upper() Преобразование строки к верхнему регистру"
   ]
  },
  {
   "cell_type": "code",
   "execution_count": 8,
   "metadata": {},
   "outputs": [
    {
     "name": "stdout",
     "output_type": "stream",
     "text": [
      "ПРИВЕТ\n"
     ]
    }
   ],
   "source": [
    "s = 'Привет'\n",
    "print(s.upper())"
   ]
  },
  {
   "cell_type": "markdown",
   "metadata": {},
   "source": [
    "swapcase() замена регистра на противоположный "
   ]
  },
  {
   "cell_type": "code",
   "execution_count": 9,
   "metadata": {},
   "outputs": [
    {
     "name": "stdout",
     "output_type": "stream",
     "text": [
      "пРИВЕТ\n"
     ]
    }
   ],
   "source": [
    "s = 'Привет'\n",
    "print(s.swapcase())"
   ]
  },
  {
   "cell_type": "markdown",
   "metadata": {},
   "source": [
    "Оператор in"
   ]
  },
  {
   "cell_type": "code",
   "execution_count": 10,
   "metadata": {},
   "outputs": [
    {
     "name": "stdout",
     "output_type": "stream",
     "text": [
      "True\n"
     ]
    }
   ],
   "source": [
    "s = 'Привет, Мир'\n",
    "print('Мир' in s)  "
   ]
  },
  {
   "cell_type": "markdown",
   "metadata": {},
   "source": [
    "replace(old,new) Замена старого символа old на символ new"
   ]
  },
  {
   "cell_type": "code",
   "execution_count": 11,
   "metadata": {},
   "outputs": [
    {
     "name": "stdout",
     "output_type": "stream",
     "text": [
      "Привет, Python\n"
     ]
    }
   ],
   "source": [
    "s = 'Привет, мир'\n",
    "new_s = s.replace('мир', 'Python')\n",
    "print(new_s)"
   ]
  },
  {
   "cell_type": "markdown",
   "metadata": {},
   "source": [
    "split(): Разбивает строку на подстроки по указанному разделителю и возвращает список подстрок."
   ]
  },
  {
   "cell_type": "code",
   "execution_count": 12,
   "metadata": {},
   "outputs": [
    {
     "name": "stdout",
     "output_type": "stream",
     "text": [
      "['Привет', 'мир', 'Python']\n"
     ]
    }
   ],
   "source": [
    "s = 'Привет,мир,Python'\n",
    "substrings = s.split(',')\n",
    "print(substrings)"
   ]
  },
  {
   "cell_type": "markdown",
   "metadata": {},
   "source": [
    "capitalize() - Переводит первый символ строки в верхний \n",
    "регистр, а все остальные — в нижний."
   ]
  },
  {
   "cell_type": "code",
   "execution_count": 13,
   "metadata": {},
   "outputs": [
    {
     "name": "stdout",
     "output_type": "stream",
     "text": [
      "Привет, мир!\n"
     ]
    }
   ],
   "source": [
    "s = 'пРИВЕТ, МИР!'\n",
    "print(s.capitalize())"
   ]
  },
  {
   "cell_type": "markdown",
   "metadata": {},
   "source": [
    "title() Переводит первую букву каждого слова в \n",
    "верхний регистр, а все остальные — в нижний."
   ]
  },
  {
   "cell_type": "code",
   "execution_count": 14,
   "metadata": {},
   "outputs": [
    {
     "name": "stdout",
     "output_type": "stream",
     "text": [
      "Привет, Мир!\n"
     ]
    }
   ],
   "source": [
    "s = 'пРИВЕТ, МИР!'\n",
    "print(s.title())"
   ]
  },
  {
   "cell_type": "markdown",
   "metadata": {},
   "source": [
    "lower() Преобразование строки к нижнему регистру"
   ]
  },
  {
   "cell_type": "code",
   "execution_count": 15,
   "metadata": {},
   "outputs": [
    {
     "name": "stdout",
     "output_type": "stream",
     "text": [
      "привет, мир!\n"
     ]
    }
   ],
   "source": [
    "s = \"ПРИВЕТ, МИР!\"\n",
    "print(s.lower()) "
   ]
  },
  {
   "cell_type": "code",
   "execution_count": 16,
   "metadata": {},
   "outputs": [
    {
     "name": "stdout",
     "output_type": "stream",
     "text": [
      "ПРИВЕТ, МИР!\n"
     ]
    }
   ],
   "source": [
    "s = 'привет, мир!'\n",
    "print(s.upper()) "
   ]
  },
  {
   "cell_type": "markdown",
   "metadata": {},
   "source": [
    "strip() удаление пробелов в начале и в конце строки "
   ]
  },
  {
   "cell_type": "code",
   "execution_count": 17,
   "metadata": {},
   "outputs": [
    {
     "name": "stdout",
     "output_type": "stream",
     "text": [
      "Привет, Мир!\n"
     ]
    }
   ],
   "source": [
    "s = '   Привет, Мир!   '\n",
    "print(s.strip())"
   ]
  },
  {
   "cell_type": "markdown",
   "metadata": {},
   "source": [
    "split(): Разбивает строку на подстроки по указанному разделителю и возвращает список подстрок."
   ]
  },
  {
   "cell_type": "code",
   "execution_count": 18,
   "metadata": {},
   "outputs": [
    {
     "name": "stdout",
     "output_type": "stream",
     "text": [
      "['Привет', ' Мир!']\n"
     ]
    }
   ],
   "source": [
    "s = 'Привет, Мир!'\n",
    "print(s.split(\",\")) "
   ]
  },
  {
   "cell_type": "markdown",
   "metadata": {},
   "source": [
    "join(): Объединяет список строк в одну строку, вставляя указанный разделитель между ними."
   ]
  },
  {
   "cell_type": "code",
   "execution_count": 19,
   "metadata": {},
   "outputs": [
    {
     "name": "stdout",
     "output_type": "stream",
     "text": [
      "Привет-Мир\n"
     ]
    }
   ],
   "source": [
    "s = ['Привет', 'Мир']\n",
    "print('-'.join(s))"
   ]
  },
  {
   "cell_type": "markdown",
   "metadata": {},
   "source": [
    "Условия IF, ELSE, ELIF:"
   ]
  },
  {
   "cell_type": "code",
   "execution_count": 20,
   "metadata": {},
   "outputs": [
    {
     "name": "stdout",
     "output_type": "stream",
     "text": [
      "x меньше 10\n"
     ]
    }
   ],
   "source": [
    "x = 5\n",
    "\n",
    "if x > 10:\n",
    "    print(\"x больше 10\")\n",
    "elif x == 10:\n",
    "    print(\"x равно 10\")\n",
    "else:\n",
    "    print(\"x меньше 10\")"
   ]
  },
  {
   "cell_type": "markdown",
   "metadata": {},
   "source": [
    "Блоки и отступы:"
   ]
  },
  {
   "cell_type": "code",
   "execution_count": 21,
   "metadata": {},
   "outputs": [
    {
     "name": "stdout",
     "output_type": "stream",
     "text": [
      "x положительное число\n",
      "x умноженное на 2 равно 2\n",
      "Конец программы\n"
     ]
    }
   ],
   "source": [
    "x = 1\n",
    "\n",
    "if x > 0:\n",
    "    print(\"x положительное число\")   # этот блок кода будет выполнен, если условие истинно\n",
    "    print(\"x умноженное на 2 равно\", x * 2)   # этот блок кода также будет выполнен\n",
    "print(\"Конец программы\")   # этот блок кода будет выполнен независимо от условия"
   ]
  },
  {
   "cell_type": "markdown",
   "metadata": {},
   "source": [
    "Цикл while"
   ]
  },
  {
   "cell_type": "code",
   "execution_count": 22,
   "metadata": {},
   "outputs": [
    {
     "name": "stdout",
     "output_type": "stream",
     "text": [
      "0\n",
      "1\n",
      "2\n",
      "3\n",
      "4\n"
     ]
    }
   ],
   "source": [
    "i = 0\n",
    "while i < 5:\n",
    "    print(i)\n",
    "    i += 1"
   ]
  },
  {
   "cell_type": "markdown",
   "metadata": {},
   "source": [
    "Цикл for in"
   ]
  },
  {
   "cell_type": "code",
   "execution_count": 23,
   "metadata": {},
   "outputs": [
    {
     "name": "stdout",
     "output_type": "stream",
     "text": [
      "1\n",
      "2\n",
      "3\n",
      "4\n",
      "5\n"
     ]
    }
   ],
   "source": [
    "numbers = [1, 2, 3, 4, 5]\n",
    "for num in numbers:\n",
    "    print(num)"
   ]
  },
  {
   "cell_type": "code",
   "execution_count": 24,
   "metadata": {},
   "outputs": [
    {
     "name": "stdout",
     "output_type": "stream",
     "text": [
      "1\n",
      "2\n",
      "3\n",
      "4\n"
     ]
    }
   ],
   "source": [
    "for i in range(1,5,1):\n",
    "    print(i)\n"
   ]
  },
  {
   "cell_type": "markdown",
   "metadata": {},
   "source": [
    "Структуры данных: списки, словари и кортежи:\n",
    "Списки"
   ]
  },
  {
   "cell_type": "code",
   "execution_count": 25,
   "metadata": {},
   "outputs": [
    {
     "name": "stdout",
     "output_type": "stream",
     "text": [
      "[1, 2, 3, 4, 5]\n"
     ]
    }
   ],
   "source": [
    "numbers = [1, 2, 3, 4, 5]\n",
    "print(numbers)"
   ]
  },
  {
   "cell_type": "markdown",
   "metadata": {},
   "source": [
    "Словари"
   ]
  },
  {
   "cell_type": "code",
   "execution_count": 26,
   "metadata": {},
   "outputs": [],
   "source": [
    "person = {'name': 'Анна', 'age': 30, 'city': 'Москва'}\n",
    "print(person)"
   ]
  },
  {
   "cell_type": "markdown",
   "metadata": {},
   "source": [
    "Кортежи"
   ]
  },
  {
   "cell_type": "code",
   "execution_count": null,
   "metadata": {},
   "outputs": [
    {
     "name": "stdout",
     "output_type": "stream",
     "text": [
      "(10, 20)\n"
     ]
    }
   ],
   "source": [
    "tuple = (10, 20)\n",
    "print(tuple)"
   ]
  },
  {
   "cell_type": "markdown",
   "metadata": {},
   "source": [
    "Функции"
   ]
  },
  {
   "cell_type": "code",
   "execution_count": null,
   "metadata": {},
   "outputs": [
    {
     "name": "stdout",
     "output_type": "stream",
     "text": [
      "Привет, Дмитрий!\n"
     ]
    }
   ],
   "source": [
    "def greet(name):\n",
    "    print('Привет, ' + name + '!')\n",
    "\n",
    "greet('Дмитрий')"
   ]
  },
  {
   "cell_type": "markdown",
   "metadata": {},
   "source": [
    "Модули TIME and DATETIME"
   ]
  },
  {
   "cell_type": "code",
   "execution_count": null,
   "metadata": {},
   "outputs": [
    {
     "name": "stdout",
     "output_type": "stream",
     "text": [
      "Текущее время в формате timestamp: 1692339343.5779276\n",
      "Текущая дата и время: 2023-08-18 13:15:43.578929\n"
     ]
    }
   ],
   "source": [
    "import time\n",
    "import datetime\n",
    "\n",
    "current_time = time.time()\n",
    "print(\"Текущее время в формате timestamp:\", current_time)\n",
    "\n",
    "current_datetime = datetime.datetime.now()\n",
    "print(\"Текущая дата и время:\", current_datetime)"
   ]
  },
  {
   "cell_type": "markdown",
   "metadata": {},
   "source": [
    "<h1>Задачи</h1>\n",
    "1. Ввести строковое предложение (пользовательским \n",
    "вводом) «Я живу на планете Земля» и вывести \n",
    "это сообщение на экран <br/>\n",
    "2. Пользователь вводит произвольную строку, \n",
    "состоящую из 3 слов. Заменить все пробелы между \n",
    "словами на «!»<br/>\n",
    "3. Дано слово «Информатика». C помощью операций \n",
    "вырезки составить как минимум 3 слова из данного<br/>\n",
    "4. Пользователь вводит 3 числа. Вывести их квадрат \n",
    "суммы и квадрат разности"
   ]
  },
  {
   "cell_type": "markdown",
   "metadata": {},
   "source": [
    "<h1>Задачи*</h1>\n",
    "<b>1.</b> Напишите программу, которая выводит сумму двух целых чисел. <br/>\n",
    "В первой строке входных данных содержится целое число — количество наборов входных данных в тесте.<br/>\n",
    "Далее следуют описания наборов входных данных, один набор в строке.<br/>\n",
    "Для каждого набора входных данных выведите сумму двух заданных чисел то есть a+b<br/>\n",
    "Входные данные:<br/>\n",
    "2<br/>\n",
    "256 42<br/>\n",
    "1000 1000<br/>\n",
    "Выходные данные:<br/>\n",
    "298<br/>\n",
    "2000<br/>\n",
    "\n"
   ]
  }
 ],
 "metadata": {
  "kernelspec": {
   "display_name": "Python 3",
   "language": "python",
   "name": "python3"
  },
  "language_info": {
   "codemirror_mode": {
    "name": "ipython",
    "version": 3
   },
   "file_extension": ".py",
   "mimetype": "text/x-python",
   "name": "python",
   "nbconvert_exporter": "python",
   "pygments_lexer": "ipython3",
   "version": "3.11.5"
  },
  "orig_nbformat": 4
 },
 "nbformat": 4,
 "nbformat_minor": 2
}
